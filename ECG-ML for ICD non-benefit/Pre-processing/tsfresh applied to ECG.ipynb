{
 "cells": [
  {
   "cell_type": "code",
   "execution_count": 3,
   "id": "ef5a1b8d",
   "metadata": {},
   "outputs": [
    {
     "name": "stderr",
     "output_type": "stream",
     "text": [
      "C:\\Users\\mzkolk\\AppData\\Local\\Temp/ipykernel_13012/4038786709.py:18: FutureWarning: The frame.append method is deprecated and will be removed from pandas in a future version. Use pandas.concat instead.\n",
      "  final=final.append(dft,ignore_index=True)\n"
     ]
    }
   ],
   "source": [
    "# #Go through the ECG dataset and append ID (index) and time variable. Transpose to long format dataset for tsfresh. Endproduct\n",
    "# # is a long format dataset of ECG arrays\n",
    "import numpy as np\n",
    "import pandas as pd\n",
    "\n",
    "ecg_np_to_extract= np.load('selected_ecg_downsampled_final.npy')\n",
    "\n",
    "final=pd.DataFrame()\n",
    "i = 0\n",
    "\n",
    "for row in ecg_np_to_extract:\n",
    "        arrleads = np.transpose(row)\n",
    "        df = pd.DataFrame(arrleads)\n",
    "        dft = np.transpose(df)\n",
    "        dft['Time'] = np.arange(len(dft)) #Time label\n",
    "        dft['ID'] = i #ID\n",
    "        i += 1\n",
    "        final=final.append(dft,ignore_index=True)\n",
    "\n",
    "final.to_csv('final_transposed_leads_distant_downsampled.csv')"
   ]
  },
  {
   "cell_type": "code",
   "execution_count": 28,
   "id": "46f95650",
   "metadata": {},
   "outputs": [
    {
     "name": "stdout",
     "output_type": "stream",
     "text": [
      "[1799 1800 1801 ... 2939 2940 2941]\n",
      "[   0    1    2 ... 1796 1797 1798]\n"
     ]
    }
   ],
   "source": [
    "print(final_dr.ID.unique())\n",
    "print(final_dist.ID.unique())"
   ]
  },
  {
   "cell_type": "code",
   "execution_count": 1,
   "id": "a9547613",
   "metadata": {},
   "outputs": [],
   "source": [
    "# Load DR long format ECG\n",
    "import pandas as pd\n",
    "final_dr = pd.read_csv('final_transposed_leads_deep_risk.csv')\n",
    "final_dr['ID'] = final_dr['ID'] + 1798\n",
    "final_dr = final_dr.rename(columns={'0': '0', '0.1': '1', '0.2' : '2', \n",
    "                                    '0.3' : '3', '0.4' : '4',                  \n",
    "                                    '0.5' : '5', '0.6' : '6', '0.7' : '7',\n",
    "                                   '0.8' : '8', '0.9' : '9', '0.10' : '10', '0.11' : '11'})\n",
    "#Load DIST long format ECG\n",
    "final_dist = pd.read_csv('final_transposed_leads_distant_downsampled.csv')\n",
    "\n",
    "#Concatenate both DIST and DR cohorts\n",
    "frames = [final_dist, final_dr]\n",
    "ecg_both_sets = pd.concat(frames)\n",
    "ecg_both_sets.to_csv('ecg_both_sets.csv')"
   ]
  },
  {
   "cell_type": "code",
   "execution_count": 37,
   "id": "209738d9",
   "metadata": {},
   "outputs": [
    {
     "name": "stderr",
     "output_type": "stream",
     "text": [
      "Feature Extraction: 100%|███████████████████████████████████████████████████████████████████████████████████████████████████████████████| 10/10 [5:12:23<00:00, 1874.35s/it]\n",
      "c:\\users\\mzkolk\\pycharmprojects\\pythonproject\\venv\\lib\\site-packages\\tsfresh\\utilities\\dataframe_functions.py:198: RuntimeWarning: The columns ['0__query_similarity_count__query_None__threshold_0.0'\n",
      " '1__query_similarity_count__query_None__threshold_0.0'\n",
      " '2__query_similarity_count__query_None__threshold_0.0'\n",
      " '3__query_similarity_count__query_None__threshold_0.0'\n",
      " '4__query_similarity_count__query_None__threshold_0.0'\n",
      " '5__query_similarity_count__query_None__threshold_0.0'\n",
      " '6__query_similarity_count__query_None__threshold_0.0'\n",
      " '7__query_similarity_count__query_None__threshold_0.0'\n",
      " '8__query_similarity_count__query_None__threshold_0.0'\n",
      " '9__query_similarity_count__query_None__threshold_0.0'\n",
      " '10__query_similarity_count__query_None__threshold_0.0'\n",
      " '11__query_similarity_count__query_None__threshold_0.0'] did not have any finite values. Filling with zeros.\n",
      "  warnings.warn(\n"
     ]
    }
   ],
   "source": [
    "df = ecg_both_sets\n",
    "df.drop(\"Unnamed: 0\", axis=1, inplace=True)\n",
    "\n",
    "#Run tfresh\n",
    "from tsfresh.feature_extraction import extract_features, EfficientFCParameters\n",
    "efficientParametersForTsFresh = EfficientFCParameters()\n",
    "extracted_featuresefficient = extract_features(df, column_id=\"ID\", column_sort=\"Time\", default_fc_parameters=efficientParametersForTsFresh)\n",
    "\n",
    "#Impute missings values\n",
    "from tsfresh.utilities.dataframe_functions import impute\n",
    "extracted_featuresefficient_impute = impute(extracted_featuresefficient)\n",
    "\n",
    "#Save with imputed missings values\n",
    "extracted_featuresefficient.to_csv('extracted_featuresefficient.csv')"
   ]
  },
  {
   "cell_type": "code",
   "execution_count": 51,
   "id": "44bf8531",
   "metadata": {},
   "outputs": [],
   "source": [
    "test = extracted_featuresefficient\n",
    "test['Python_ID_Index'] = test.reset_index().index\n",
    "extracted_featuresefficient.to_csv('extracted_featuresefficient_withID.csv')"
   ]
  }
 ],
 "metadata": {
  "kernelspec": {
   "display_name": "Python 3 (ipykernel)",
   "language": "python",
   "name": "python3"
  },
  "language_info": {
   "codemirror_mode": {
    "name": "ipython",
    "version": 3
   },
   "file_extension": ".py",
   "mimetype": "text/x-python",
   "name": "python",
   "nbconvert_exporter": "python",
   "pygments_lexer": "ipython3",
   "version": "3.9.5"
  }
 },
 "nbformat": 4,
 "nbformat_minor": 5
}
