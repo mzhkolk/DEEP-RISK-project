{
 "cells": [
  {
   "cell_type": "code",
   "execution_count": 62,
   "id": "64557927",
   "metadata": {},
   "outputs": [
    {
     "name": "stdout",
     "output_type": "stream",
     "text": [
      "Patients with 1Y follow-up 1185\n",
      "Patients with 2Y follow-up 1103\n",
      "Patients with 3Y follow-up 1010\n",
      "Patients with 4Y follow-up 922\n",
      "(1269, 9481)\n",
      "(1269, 9481)\n",
      "1010\n"
     ]
    }
   ],
   "source": [
    "'''''\n",
    "This notebook describes the standardisation of the ECG features and the split of internal and external datasets\n",
    "Step 1. Get the original dataframe that contains the extracted ECG features\n",
    "Step 2. Select the patients with sufficient follow-up for the label the model is developed for\n",
    
    "Author: MZH Kolk, 2022 Oct\n",
    "'''''\n",
    "\n",
    "import pandas as pd\n",
    "import numpy as np\n",
    "import warnings\n",
    "\n",
    "#Import the dataframe comprising clinical data (standardised) and tsfresh data (unstandardised)---> only ICM/DCM/NICM\n",
    "dff = pd.read_csv('baselinedata_newselection.csv', index_col=0)\n",
    "\n",
    "ts_fresh = pd.read_csv('extracted_featuresefficient.csv',  index_col=0)\n",
    "ts_fresh['Python_ID_Index'] = ts_fresh.reset_index().index\n",
    "merged_set = pd.merge(dff, ts_fresh, how=\"left\", on=[\"Python_ID_Index\"])\n",
    "merged_set.to_csv('data_newselection.csv' )\n",
    "\n",
    "dff = merged_set\n",
    "#Get a list of patients with full FU for the selected label (later will be used of row selection)\n",
    "lst = dff.index[(dff['MtillDeath_censored'] > 36) | (dff['ICDnonbenefit_3Y']==1) | (dff['AppropriateTherapy3Y']==1)].tolist()\n",
    "print(\"Patients with 1Y follow-up\", len(dff.index[(dff['MtillDeath_censored'] > 12) | \\\n",
    "                      (dff['ICDnonbenefit_1Y']==1) | (dff['AppropriateTherapy1Y']==1)].tolist()))\n",
    "print(\"Patients with 2Y follow-up\", len(dff.index[(dff['MtillDeath_censored'] > 24) | \\\n",
    "                      (dff['ICDnonbenefit_2Y']==1) | (dff['AppropriateTherapy2Y']==1)].tolist()))\n",
    "print(\"Patients with 3Y follow-up\", len(dff.index[(dff['MtillDeath_censored'] > 36) | \\\n",
    "                      (dff['ICDnonbenefit_3Y']==1) | (dff['AppropriateTherapy3Y']==1)].tolist()))\n",
    "print(\"Patients with 4Y follow-up\", len(dff.index[(dff['MtillDeath_censored'] > 48) | \\\n",
    "                      (dff['ICDnonbenefit_4Y']==1) | (dff['AppropriateTherapy4Y']==1)].tolist()))\n",
    "df = dff\n",
    "print(df.shape)\n",
    "print(dff.shape)\n",
    "print(len(lst))"
   ]
  },

  {
   "cell_type": "code",
   "execution_count": 64,
   "id": "98fba142",
   "metadata": {},
   "outputs": [
    {
     "name": "stdout",
     "output_type": "stream",
     "text": [
      "(550, 16)\n",
      "(460, 16)\n",
      "(460, 9434)\n",
      "(550, 9434)\n"
     ]
    }
   ],
   "source": [
    "'''''\n",
    "Split the dataset into an internal and external cohort. The external cohort is kept isolated for until external validation\n",
    "\n",
    "Step 1. Patient ID <1798 are the internal dataset (Hospital A)\n",
    "Step 2. Patient ID > 1797 are the external dataset (Hospital B)\n",
    "Step 3. The X and y dataframes are split based on the patient ID\n",
    "\n",
    "Author: MZH Kolk, 2022 Oct\n",
    "'''''\n",
    "pd.options.mode.chained_assignment = None\n",
    "\n",
    "#Save the X dataset\n",
    "X = x\n",
    "X.to_csv('X_3Y_NS.csv')\n",
    "\n",
    "#Save the y dataset\n",
    "y = y_listed\n",
    "y.to_csv('y_3Y_NS.csv')\n",
    "\n",
    "#Convert the Patient ID to integer\n",
    "X['Python_ID_Index'] = X['Python_ID_Index'].astype(int)\n",
    "\n",
    "#Function to split the dataset into an internal and external cohort based on the patientID\n",
    "def External_cohort(dfObj):\n",
    "    if (dfObj['Python_ID_Index'] < 1798):\n",
    "        return  'True' #DISTANT\n",
    "    elif (dfObj['Python_ID_Index'] > 1797):\n",
    "        return 'False' #DEEPRISK\n",
    "\n",
    "#Make a label (bool) for the internal X dataset and X external dataset\n",
    "X['Python_ID_Index'] = X.apply(External_cohort, axis = 1)\n",
    "X_internal = X[X[\"Python_ID_Index\"] == 'True']\n",
    "X_internal.drop(['Python_ID_Index'], axis=1, inplace=True)\n",
    "X_external = X[X[\"Python_ID_Index\"] == 'False']\n",
    "X_external.drop(['Python_ID_Index'], axis=1, inplace=True)\n",
    "\n",
    "#Make a label (bool) for the internal y dataset and y external dataset\n",
    "y['Python_ID_Index'] = y.apply(External_cohort, axis = 1)\n",
    "y_internal = y[y[\"Python_ID_Index\"] == 'True']\n",
    "y_internal.drop(['Python_ID_Index'], axis=1, inplace=True)\n",
    "y_external = y[y[\"Python_ID_Index\"] == 'False']\n",
    "y_external.drop(['Python_ID_Index'], axis=1, inplace=True)\n",
    "\n",
    "#Save the internal and external datasets\n",
    "X_internal.to_csv('X_internal_3Y_NS.csv')\n",
    "X_external.to_csv('X_external_3Y_NS.csv')\n",
    "y_external.to_csv('y_external_3Y_NS.csv')\n",
    "y_internal.to_csv('y_internal_3Y_NS.csv')\n",
    "\n",
    "print(y_internal.shape)\n",
    "print(y_external.shape)\n",
    "print(X_external.shape)\n",
    "print(X_internal.shape)\n"
   ]
  }
 ],
 "metadata": {
  "kernelspec": {
   "display_name": "Python 3 (ipykernel)",
   "language": "python",
   "name": "python3"
  },
  "language_info": {
   "codemirror_mode": {
    "name": "ipython",
    "version": 3
   },
   "file_extension": ".py",
   "mimetype": "text/x-python",
   "name": "python",
   "nbconvert_exporter": "python",
   "pygments_lexer": "ipython3",
   "version": "3.9.13"
  }
 },
 "nbformat": 4,
 "nbformat_minor": 5
}
