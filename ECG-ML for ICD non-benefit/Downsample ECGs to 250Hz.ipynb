{
 "cells": [
  {
   "cell_type": "code",
   "execution_count": 14,
   "id": "986f2c10",
   "metadata": {},
   "outputs": [
    {
     "name": "stdout",
     "output_type": "stream",
     "text": [
      "(1153, 5000, 12)\n",
      "(941, 2500, 12)\n",
      "(1153, 291)\n",
      "(941, 291)\n",
      "The number of duplicate ECG's 295\n",
      "941\n",
      "1153\n"
     ]
    }
   ],
   "source": [
    "import numpy as np\n",
    "import pandas as pd\n",
    "hz500_rawecg = np.load('ecg_np_to_extract_500hz.npy')\n",
    "log_500hz = pd.read_excel('500hz_set_ecg_selected.xlsx')\n",
    "hz250_rawecg = np.load('ecg_np_to_extract_250hz.npy')\n",
    "log_250hz = pd.read_excel('250hz_set_ecg_selected.xlsx')\n",
    "\n",
    "print(hz500_rawecg.shape)\n",
    "print(hz250_rawecg.shape)\n",
    "print(log_500hz.shape)\n",
    "print(log_250hz.shape)\n",
    "\n",
    "a = log_500hz['MDN']\n",
    "b = log_250hz['MDN']\n",
    "print(\"The number of duplicate ECG's\", len(set(a) & set(b)))\n",
    "print(len(log_250hz.StudyID_x.unique()))\n",
    "print(len(log_500hz.StudyID_x.unique()))"
   ]
  },
  {
   "cell_type": "code",
   "execution_count": 18,
   "id": "59e0d64f",
   "metadata": {},
   "outputs": [],
   "source": [
    "hz500_rawecg = np.load('ecg_np_to_extract_500hz.npy')\n",
    "hz500_rawecg_1 = np.load('ecg_np_to_extract_500hz_1.npy')\n",
    "hz250_rawecg = np.load('ecg_np_to_extract_250hz.npy')\n",
    "hz250_rawecg_1 = np.load('ecg_np_to_extract_250hz_1.npy')\n"
   ]
  },
  {
   "cell_type": "code",
   "execution_count": 21,
   "id": "107e96c9",
   "metadata": {},
   "outputs": [
    {
     "name": "stdout",
     "output_type": "stream",
     "text": [
      "[[-20.877842  -10.992804    8.061044  ... -23.280523  -20.58204\n",
      "   -5.7699666]\n",
      " [-21.647009  -10.757448    8.533437  ... -22.010015  -18.962978\n",
      "   -5.0327215]\n",
      " [-22.00366   -11.1311      8.108554  ... -21.190834  -17.876516\n",
      "   -4.821511 ]\n",
      " ...\n",
      " [-45.11135   -54.75475    63.59275   ... -29.794239  -38.379787\n",
      "  -85.153145 ]\n",
      " [-44.766266  -54.219208   79.95553   ... -28.274712  -34.79672\n",
      "  -82.23408  ]\n",
      " [-44.453564  -53.604572   96.41739   ... -27.088444  -31.506676\n",
      "  -79.17096  ]]\n",
      "[[-20.877842  -10.992804    8.061044  ... -23.280523  -20.58204\n",
      "   -5.7699666]\n",
      " [-21.647009  -10.757448    8.533437  ... -22.010015  -18.962978\n",
      "   -5.0327215]\n",
      " [-22.00366   -11.1311      8.108554  ... -21.190834  -17.876516\n",
      "   -4.821511 ]\n",
      " ...\n",
      " [-45.11135   -54.75475    63.59275   ... -29.794239  -38.379787\n",
      "  -85.153145 ]\n",
      " [-44.766266  -54.219208   79.95553   ... -28.274712  -34.79672\n",
      "  -82.23408  ]\n",
      " [-44.453564  -53.604572   96.41739   ... -27.088444  -31.506676\n",
      "  -79.17096  ]]\n"
     ]
    }
   ],
   "source": [
    "print(hz500_rawecg[5])\n",
    "print(hz500_rawecg_1[5])"
   ]
  },
  {
   "cell_type": "code",
   "execution_count": 16,
   "id": "208117aa",
   "metadata": {},
   "outputs": [
    {
     "name": "stdout",
     "output_type": "stream",
     "text": [
      "(2094, 2500, 12)\n",
      "(2094, 291)\n",
      "(1799, 2500, 12)\n"
     ]
    }
   ],
   "source": [
    "#Down sample the 500hz to 250hz\n",
    "hz500_rawecg_convert = []\n",
    "\n",
    "from scipy import signal\n",
    "for a in hz500_rawecg:\n",
    "    f = signal.resample(a, 2500)\n",
    "    hz500_rawecg_convert.append(f)\n",
    "\n",
    "hz500_rawecg_convert = np.array(hz500_rawecg_convert)\n",
    "\n",
    "#Stack both ECG datasets\n",
    "test = np.concatenate((hz250_rawecg, hz500_rawecg_convert), axis=0)\n",
    "np.save('combined_rawecg_downsample.npy', test) # save\n",
    "\n",
    "#Stack the datasets\n",
    "test_log = pd.concat([log_250hz, log_500hz], axis=0)\n",
    "test_log.to_excel('combined_log_downsampled.xlsx') \n",
    "\n",
    "#Check that the numbers are equal\n",
    "print(test.shape)\n",
    "print(test_log.shape)\n",
    "\n",
    "#Get the rownumbers of duplicate cases\n",
    "test_log.reset_index(drop=True, inplace=True)\n",
    "pd.set_option('display.max_rows', 300)\n",
    "test_log.to_excel('combined_log_downsampled.xlsx')  \n",
    "test_log.index.groupby(test_log['StudyID_x'])\n",
    "idx = test_log\n",
    "flas = idx['StudyID_x'].drop_duplicates(keep='first')\n",
    "\n",
    "#Make list of duplicates\n",
    "keep_ecg = flas.index.values.tolist()\n",
    "\n",
    "#ECGs to keep\n",
    "idx = idx.iloc[keep_ecg]\n",
    "idx.to_excel('selected_dataset_downsampled_final.xlsx')  \n",
    "\n",
    "# #Extract ECGs from HDF5 corresponding to patients (around implantation)\n",
    "axis = 0\n",
    "ecg_np_to_extract = np.take(test, keep_ecg, axis)\n",
    "print(ecg_np_to_extract.shape)\n",
    "np.save('selected_ecg_downsampled_final.npy', ecg_np_to_extract) # save"
   ]
  },
  {
   "cell_type": "code",
   "execution_count": null,
   "id": "1c1f6e7b",
   "metadata": {},
   "outputs": [],
   "source": []
  }
 ],
 "metadata": {
  "kernelspec": {
   "display_name": "Python 3 (ipykernel)",
   "language": "python",
   "name": "python3"
  },
  "language_info": {
   "codemirror_mode": {
    "name": "ipython",
    "version": 3
   },
   "file_extension": ".py",
   "mimetype": "text/x-python",
   "name": "python",
   "nbconvert_exporter": "python",
   "pygments_lexer": "ipython3",
   "version": "3.9.5"
  }
 },
 "nbformat": 4,
 "nbformat_minor": 5
}
