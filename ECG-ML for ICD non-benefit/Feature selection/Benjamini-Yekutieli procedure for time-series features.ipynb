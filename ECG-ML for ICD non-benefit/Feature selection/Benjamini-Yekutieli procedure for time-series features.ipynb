{
 "cells": [
  {
   "cell_type": "code",
   "execution_count": 20,
   "id": "302aab19",
   "metadata": {},
   "outputs": [
    {
     "name": "stdout",
     "output_type": "stream",
     "text": [
      "Number of variables with selected leads (1010, 9384)\n",
      "Number of variables with high correlarity removed (1010, 7035)\n",
      "Number of variables with variance removed (1010, 6779)\n",
      "(1010, 250)\n",
      "Number of features 250\n"
     ]
    }
   ],
   "source": [
    "'''''\n",
    "Step 1. Remove the high correlating variables (threshold 0.95)\n",
    "Step 2. Remove features with low variance (threshold=0.01)\n",
    "Step 3. Extract relevant features using the Benjamini-Yekutieli procedure (Benjamini Y, Yekutieli D. (2001))\n",
    "Step 4. Endpoint Y (ICD non-benefit) can be changed to a different endpoint, e.g. appropriate ICD-therapy or all-cause mortality\n",
    "Step 5. The output of the Benjamini-Yekutieli procedure provides a list of 250 feature names, these are saved\n",
    "Author: MZH Kolk, 2022 Oct\n",
    "'''''\n",
    "import pandas as pd\n",
    "import numpy as np\n",
    "\n",
    "#Load dataset and outcome\n",
    "X = pd.read_csv('X_internal_3Y_NS.csv', index_col=0)\n",
    "y = pd.read_csv('y_internal_3Y_NS.csv',index_col=0)\n",
    "y.drop(['Python_ID_Index'], axis=1, inplace=True)\n",
    "X.drop(['Python_ID_Index'], axis=1, inplace=True)\n",
    "y = y['ICDnonbenefit_3Y']\n",
    "y = y.squeeze()\n",
    "\n",
    "#Select the time-series variables from the dataset\n",
    "X_ecg = X.iloc[:, 50:]\n",
    "#Select the clinical variables from the dataset\n",
    "X_clin = X.iloc[:, :50]\n",
    "\n",
    "print(\"Number of variables with selected leads\", X_ecg.shape)\n",
    "\n",
    "# Filter (remove) all but one features with correlation of 0.95 or more\n",
    "from correlation_script import *\n",
    "X_ecg, to_drop = drop_input_corr_columns(X_ecg, 0.95)\n",
    "to_drop = list(to_drop)\n",
    "print(\"Number of variables with high correlarity removed\", X_ecg.shape)\n",
    "\n",
    "# Filter variables with high variance\n",
    "from sklearn.feature_selection import VarianceThreshold\n",
    "v_threshold = VarianceThreshold(threshold=0.01)\n",
    "X_ecg_variancethreshold = v_threshold.fit_transform(X_ecg)\n",
    "variance_column = [column for column in X_ecg.columns\n",
    "                    if column not in X_ecg.columns[v_threshold.get_support()]]\n",
    "\n",
    "X_ecg = X_ecg.drop(variance_column,axis=1)\n",
    "print(\"Number of variables with variance removed\", X_ecg.shape)\n",
    "\n",
    "# Extract relevant features\n",
    "from correlation_script import *\n",
    "X_ecg = extract_relevant_features(X_ecg, y, 250)\n",
    "print(X_ecg.shape)\n",
    "relevant_features = list(X_ecg)\n",
    "\n",
    "#Get list of features that are to be used\n",
    "list_X_ecg = list(X_ecg)\n",
    "print(\"Number of features\", len(list_X_ecg))\n"
   ]
  },
  {
   "cell_type": "code",
   "execution_count": 21,
   "id": "aae2ff85",
   "metadata": {},
   "outputs": [],
   "source": [
    "'''''\n",
    "Save the list of 250 features (pickle)\n",
    "'''''\n",
    "import pickle\n",
    "with open(\"list_X_ecg_3YNB_NS.bin\", \"wb\") as output:\n",
    "    pickle.dump(list_X_ecg, output)"
   ]
  }
 ],
 "metadata": {
  "kernelspec": {
   "display_name": "Python 3 (ipykernel)",
   "language": "python",
   "name": "python3"
  },
  "language_info": {
   "codemirror_mode": {
    "name": "ipython",
    "version": 3
   },
   "file_extension": ".py",
   "mimetype": "text/x-python",
   "name": "python",
   "nbconvert_exporter": "python",
   "pygments_lexer": "ipython3",
   "version": "3.9.13"
  }
 },
 "nbformat": 4,
 "nbformat_minor": 5
}
